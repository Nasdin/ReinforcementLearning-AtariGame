{
 "cells": [
  {
   "cell_type": "code",
   "execution_count": 1,
   "metadata": {},
   "outputs": [],
   "source": [
    "%load_ext autoreload\n",
    "%autoreload 2"
   ]
  },
  {
   "cell_type": "markdown",
   "metadata": {},
   "source": [
    "# Experiment setup\n",
    "* Here we basically just load the game and check that it works"
   ]
  },
  {
   "cell_type": "code",
   "execution_count": 2,
   "metadata": {},
   "outputs": [
    {
     "name": "stdout",
     "output_type": "stream",
     "text": [
      "env: THEANO_FLAGS=\"floatX=float32\"\n"
     ]
    }
   ],
   "source": [
    "from __future__ import print_function \n",
    "import matplotlib.pyplot as plt\n",
    "%matplotlib inline\n",
    "import numpy as np\n",
    "%env THEANO_FLAGS=\"floatX=float32\""
   ]
  },
  {
   "cell_type": "code",
   "execution_count": 3,
   "metadata": {
    "collapsed": true
   },
   "outputs": [],
   "source": [
    "#global params.\n",
    "GAME = \"LunarLanderContinuous-v2\"\n",
    "\n",
    "#number of parallel agents and batch sequence length (frames)\n",
    "N_AGENTS = 1\n",
    "SEQ_LENGTH = 10"
   ]
  },
  {
   "cell_type": "code",
   "execution_count": 4,
   "metadata": {},
   "outputs": [
    {
     "name": "stderr",
     "output_type": "stream",
     "text": [
      "[2016-12-20 02:41:41,395] Making new env: LunarLanderContinuous-v2\n"
     ]
    },
    {
     "name": "stdout",
     "output_type": "stream",
     "text": [
      "(8,)\n"
     ]
    }
   ],
   "source": [
    "import numpy as np\n",
    "import matplotlib.pyplot as plt\n",
    "%matplotlib inline\n",
    "import gym\n",
    "env = gym.make(GAME)\n",
    "env.reset()\n",
    "obs = env.step(env.action_space.sample())[0]\n",
    "state_size = len(obs)\n",
    "print(obs.shape)"
   ]
  },
  {
   "cell_type": "code",
   "execution_count": 5,
   "metadata": {},
   "outputs": [
    {
     "data": {
      "text/plain": [
       "(array([-1., -1.]), array([ 1.,  1.]))"
      ]
     },
     "execution_count": 5,
     "metadata": {},
     "output_type": "execute_result"
    }
   ],
   "source": [
    "env.action_space.low,env.action_space.high,"
   ]
  },
  {
   "cell_type": "markdown",
   "metadata": {},
   "source": [
    "# Basic agent setup\n",
    "Here we define a simple agent that maps game images into Qvalues using shallow neural network.\n"
   ]
  },
  {
   "cell_type": "code",
   "execution_count": 6,
   "metadata": {},
   "outputs": [],
   "source": [
    "import lasagne\n",
    "from lasagne.layers import InputLayer,DenseLayer,batch_norm,dropout,NonlinearityLayer,GaussianNoiseLayer,ElemwiseSumLayer\n",
    "import theano.tensor as T\n",
    "#image observation at current tick goes here, shape = (sample_i,x,y,color)\n",
    "observation_layer = InputLayer((None,state_size))\n",
    "\n",
    "dense0 = DenseLayer(observation_layer,256,name='dense1')\n",
    "dense1 = DenseLayer(dense0,256,name='dense2',nonlinearity=T.tanh,)\n",
    "\n",
    "nn = dense1"
   ]
  },
  {
   "cell_type": "code",
   "execution_count": 7,
   "metadata": {},
   "outputs": [],
   "source": [
    "#a layer that predicts Qvalues\n",
    "from agentnet.learning.qlearning_naf import LowerTriangularLayer,NAFLayer\n",
    "import theano\n",
    "epsilon = theano.shared(np.float32(0.0))\n",
    "n_actions = env.action_space.shape[0]\n",
    "low = env.action_space.low\n",
    "high = env.action_space.high\n",
    "\n",
    "class naf:\n",
    "    #predict mean\n",
    "    mean = DenseLayer(nn,n_actions,nonlinearity=None,name='mu')\n",
    "    \n",
    "    action = NonlinearityLayer(mean,lambda a: a.clip(low,high))\n",
    "    #add exploration (noize)\n",
    "    action = GaussianNoiseLayer(action,sigma=epsilon)\n",
    "    #clip back to action range\n",
    "    action = NonlinearityLayer(action,lambda a: a.clip(low,high))\n",
    "    \n",
    "    #state value (for optimal action)\n",
    "    V_layer = DenseLayer(nn,1,nonlinearity=None,name='V')\n",
    "    \n",
    "    #lower triangular matrix that describes \"variance\" term in NAF\n",
    "    L_layer = LowerTriangularLayer(nn,n_actions,name='L')\n",
    "    \n",
    "    #advantage term [negative]\n",
    "    A_layer = NAFLayer(action,mean,L_layer)\n",
    "    \n",
    "    #Q = V + A = optimal_value + negative_penalty_for_diverging_from_mean\n",
    "    qvalues_layer = ElemwiseSumLayer([V_layer,A_layer])\n",
    "    \n",
    "    "
   ]
  },
  {
   "cell_type": "markdown",
   "metadata": {},
   "source": [
    "##### Finally, agent\n",
    "We declare that this network is and MDP agent with such and such inputs, states and outputs"
   ]
  },
  {
   "cell_type": "code",
   "execution_count": 8,
   "metadata": {},
   "outputs": [],
   "source": [
    "from agentnet.agent import Agent\n",
    "#all together\n",
    "agent = Agent(observation_layers=observation_layer,\n",
    "              policy_estimators=[naf.qvalues_layer,naf.V_layer,naf.L_layer,naf.mean],\n",
    "              action_layers=naf.action)\n"
   ]
  },
  {
   "cell_type": "code",
   "execution_count": 9,
   "metadata": {},
   "outputs": [
    {
     "data": {
      "text/plain": [
       "[dense1.W,\n",
       " dense1.b,\n",
       " dense2.W,\n",
       " dense2.b,\n",
       " V.W,\n",
       " V.b,\n",
       " mu.W,\n",
       " mu.b,\n",
       " L.preprocess_input.W,\n",
       " L.preprocess_input.b]"
      ]
     },
     "execution_count": 9,
     "metadata": {},
     "output_type": "execute_result"
    }
   ],
   "source": [
    "#Since it's a single lasagne network, one can get it's weights, output, etc\n",
    "weights = lasagne.layers.get_all_params(naf.qvalues_layer,trainable=True)\n",
    "weights"
   ]
  },
  {
   "cell_type": "markdown",
   "metadata": {},
   "source": [
    "# Create and manage a pool of atari sessions to play with\n",
    "\n",
    "* To make training more stable, we shall have an entire batch of game sessions each happening independent of others\n",
    "* Why several parallel agents help training: http://arxiv.org/pdf/1602.01783v1.pdf\n",
    "* Alternative approach: store more sessions: https://www.cs.toronto.edu/~vmnih/docs/dqn.pdf"
   ]
  },
  {
   "cell_type": "code",
   "execution_count": 10,
   "metadata": {},
   "outputs": [
    {
     "name": "stderr",
     "output_type": "stream",
     "text": [
      "[2016-12-20 02:41:42,615] Making new env: LunarLanderContinuous-v2\n"
     ]
    }
   ],
   "source": [
    "from agentnet.experiments.openai_gym.pool import EnvPool\n",
    "\n",
    "pool = EnvPool(agent,GAME, N_AGENTS,max_size=10000)\n"
   ]
  },
  {
   "cell_type": "code",
   "execution_count": 11,
   "metadata": {},
   "outputs": [
    {
     "name": "stdout",
     "output_type": "stream",
     "text": [
      "[[[ 0.04183017  0.13761969]\n",
      "  [ 0.0435705   0.13738689]\n",
      "  [ 0.04440451  0.13741823]\n",
      "  [ 0.04455594  0.13708687]\n",
      "  [ 0.04579004  0.13694073]\n",
      "  [ 0.04612444  0.13716166]\n",
      "  [ 0.0471224   0.13696341]\n",
      "  [ 0.04802104  0.13707337]\n",
      "  [ 0.04845742  0.13706611]\n",
      "  [ 0.20552675  0.08976637]]]\n",
      "[[-0.94497381 -0.80068601  0.23838338 -0.6373455  -0.8952836  -0.50090178\n",
      "  -1.09584565 -0.7260364  -1.14835421  0.        ]]\n",
      "CPU times: user 1.62 s, sys: 16 ms, total: 1.64 s\n",
      "Wall time: 229 ms\n"
     ]
    }
   ],
   "source": [
    "%%time\n",
    "#interact for 7 ticks\n",
    "_,action_log,reward_log,_,_,_  = pool.interact(10)\n",
    "\n",
    "\n",
    "print(action_log)\n",
    "print(reward_log)"
   ]
  },
  {
   "cell_type": "code",
   "execution_count": 12,
   "metadata": {},
   "outputs": [],
   "source": [
    "#load first sessions (this function calls interact and remembers sessions)\n",
    "pool.update(SEQ_LENGTH)"
   ]
  },
  {
   "cell_type": "markdown",
   "metadata": {},
   "source": [
    "# Q-learning\n",
    "* An agent has a method that produces symbolic environment interaction sessions\n",
    "* Such sessions are in sequences of observations, agent memory, actions, q-values,etc\n",
    "  * one has to pre-define maximum session length.\n",
    "\n",
    "* SessionPool also stores rewards (Q-learning objective)"
   ]
  },
  {
   "cell_type": "code",
   "execution_count": 13,
   "metadata": {},
   "outputs": [],
   "source": [
    "#get agent's Qvalues obtained via experience replay\n",
    "replay = pool.experience_replay.sample_session_batch(100,replace=True)\n",
    "\n",
    "_,_,_,_,(action_qvalues_seq,optimal_qvalues_seq,l_term,mu_term) = agent.get_sessions(\n",
    "    replay,\n",
    "    session_length=SEQ_LENGTH,\n",
    "    experience_replay=True,\n",
    ")\n",
    "\n"
   ]
  },
  {
   "cell_type": "code",
   "execution_count": 14,
   "metadata": {},
   "outputs": [],
   "source": [
    "#get reference Qvalues according to Qlearning algorithm\n",
    "from agentnet.learning.qlearning_naf import get_elementwise_objective\n",
    "\n",
    "#loss for Qlearning = (Q(s,a) - (r+gamma*Q(s',a_max)))^2\n",
    "elwise_mse_loss = get_elementwise_objective(action_qvalues_seq[:,:,0],\n",
    "                                            optimal_qvalues_seq[:,:,0],\n",
    "                                            replay.rewards,\n",
    "                                            replay.is_alive,\n",
    "                                            gamma_or_gammas=0.99,)\n",
    "\n",
    "#compute mean over \"alive\" fragments\n",
    "loss = elwise_mse_loss.sum() / replay.is_alive.sum()\n",
    "#add l2 regularizer\n",
    "loss += lasagne.regularization.regularize_network_params(nn,lasagne.regularization.l2)*1e-5"
   ]
  },
  {
   "cell_type": "code",
   "execution_count": 15,
   "metadata": {},
   "outputs": [],
   "source": [
    "# Compute weight updates\n",
    "updates = lasagne.updates.adam(loss,weights)"
   ]
  },
  {
   "cell_type": "code",
   "execution_count": 16,
   "metadata": {},
   "outputs": [],
   "source": [
    "#compile train function\n",
    "import theano\n",
    "train_step = theano.function([],loss,updates=updates)"
   ]
  },
  {
   "cell_type": "markdown",
   "metadata": {},
   "source": [
    "# Demo run"
   ]
  },
  {
   "cell_type": "code",
   "execution_count": 17,
   "metadata": {},
   "outputs": [
    {
     "name": "stderr",
     "output_type": "stream",
     "text": [
      "[2016-12-20 02:42:11,925] Making new env: LunarLanderContinuous-v2\n"
     ]
    },
    {
     "name": "stdout",
     "output_type": "stream",
     "text": [
      "Episode finished after 142 timesteps with reward=-333.668779224\n"
     ]
    }
   ],
   "source": [
    "#for MountainCar-v0 evaluation session is cropped to 200 ticks\n",
    "untrained_reward = pool.evaluate(save_path=\"./records\",record_video=False,use_monitor=False)"
   ]
  },
  {
   "cell_type": "code",
   "execution_count": 18,
   "metadata": {},
   "outputs": [
    {
     "data": {
      "text/html": [
       "\n",
       "<video width=\"640\" height=\"480\" controls>\n",
       "  <source src=\"<paste link from previous cell starting from records>\" type=\"video/mp4\">\n",
       "</video>\n"
      ],
      "text/plain": [
       "<IPython.core.display.HTML object>"
      ]
     },
     "execution_count": 18,
     "metadata": {},
     "output_type": "execute_result"
    }
   ],
   "source": [
    "from IPython.display import HTML\n",
    "video_path=\"<paste link from previous cell starting from records>\"\n",
    "\n",
    "HTML(\"\"\"\n",
    "<video width=\"640\" height=\"480\" controls>\n",
    "  <source src=\"{}\" type=\"video/mp4\">\n",
    "</video>\n",
    "\"\"\".format(video_path))\n"
   ]
  },
  {
   "cell_type": "markdown",
   "metadata": {},
   "source": [
    "# Training loop"
   ]
  },
  {
   "cell_type": "code",
   "execution_count": 19,
   "metadata": {},
   "outputs": [],
   "source": [
    "#starting epoch\n",
    "epoch_counter = 1\n",
    "loss=train_step()\n",
    "\n",
    "\n",
    "#full game rewards\n",
    "rewards = {epoch_counter:untrained_reward}"
   ]
  },
  {
   "cell_type": "code",
   "execution_count": 20,
   "metadata": {},
   "outputs": [
    {
     "name": "stderr",
     "output_type": "stream",
     "text": [
      "100%|██████████| 1000/1000 [00:07<00:00, 134.50it/s]\n"
     ]
    }
   ],
   "source": [
    "#pre-fill pool\n",
    "from tqdm import tqdm\n",
    "for i in tqdm(range(1000)):\n",
    "    pool.update(SEQ_LENGTH,append=True,)\n"
   ]
  },
  {
   "cell_type": "code",
   "execution_count": 21,
   "metadata": {
    "scrolled": true
   },
   "outputs": [
    {
     "name": "stderr",
     "output_type": "stream",
     "text": [
      "  1%|          | 100/10000 [00:29<53:44,  3.07it/s]"
     ]
    },
    {
     "name": "stdout",
     "output_type": "stream",
     "text": [
      "iter=100\tloss=691.603\tepsilon=0.100\treward/step=-5.89378\tpool_size=2001\n"
     ]
    },
    {
     "name": "stderr",
     "output_type": "stream",
     "text": [
      "  2%|▏         | 200/10000 [01:01<49:05,  3.33it/s]"
     ]
    },
    {
     "name": "stdout",
     "output_type": "stream",
     "text": [
      "iter=200\tloss=1031.668\tepsilon=0.100\treward/step=-7.70706\tpool_size=3001\n"
     ]
    },
    {
     "name": "stderr",
     "output_type": "stream",
     "text": [
      "  3%|▎         | 300/10000 [01:30<46:24,  3.48it/s]"
     ]
    },
    {
     "name": "stdout",
     "output_type": "stream",
     "text": [
      "iter=300\tloss=1033.643\tepsilon=0.100\treward/step=-8.12522\tpool_size=4001\n"
     ]
    },
    {
     "name": "stderr",
     "output_type": "stream",
     "text": [
      "  4%|▍         | 400/10000 [01:59<48:41,  3.29it/s]"
     ]
    },
    {
     "name": "stdout",
     "output_type": "stream",
     "text": [
      "iter=400\tloss=1040.660\tepsilon=0.100\treward/step=-8.42352\tpool_size=5001\n"
     ]
    },
    {
     "name": "stderr",
     "output_type": "stream",
     "text": [
      "  5%|▍         | 499/10000 [02:30<48:58,  3.23it/s][2016-12-20 02:44:50,399] Making new env: LunarLanderContinuous-v2\n",
      "[2016-12-20 02:44:50,404] Clearing 2 monitor files from previous run (because force=True was provided)\n"
     ]
    },
    {
     "name": "stdout",
     "output_type": "stream",
     "text": [
      "iter=500\tloss=1068.806\tepsilon=0.100\treward/step=-8.65074\tpool_size=6001\n"
     ]
    },
    {
     "name": "stderr",
     "output_type": "stream",
     "text": [
      "[2016-12-20 02:44:50,792] Finished writing results. You can upload them to the scoreboard via gym.upload('/root/test/records')\n",
      "  5%|▌         | 500/10000 [02:30<1:07:29,  2.35it/s]"
     ]
    },
    {
     "name": "stdout",
     "output_type": "stream",
     "text": [
      "Current score(mean over 10) = -720.132\n"
     ]
    },
    {
     "name": "stderr",
     "output_type": "stream",
     "text": [
      "  6%|▌         | 600/10000 [03:03<47:45,  3.28it/s]"
     ]
    },
    {
     "name": "stdout",
     "output_type": "stream",
     "text": [
      "iter=600\tloss=1024.814\tepsilon=0.100\treward/step=-8.85088\tpool_size=7001\n"
     ]
    },
    {
     "name": "stderr",
     "output_type": "stream",
     "text": [
      "  7%|▋         | 700/10000 [03:34<50:19,  3.08it/s]"
     ]
    },
    {
     "name": "stdout",
     "output_type": "stream",
     "text": [
      "iter=700\tloss=972.542\tepsilon=0.100\treward/step=-8.94411\tpool_size=8001\n"
     ]
    },
    {
     "name": "stderr",
     "output_type": "stream",
     "text": [
      "  8%|▊         | 800/10000 [04:08<48:41,  3.15it/s]"
     ]
    },
    {
     "name": "stdout",
     "output_type": "stream",
     "text": [
      "iter=800\tloss=941.516\tepsilon=0.100\treward/step=-8.95271\tpool_size=9001\n"
     ]
    },
    {
     "name": "stderr",
     "output_type": "stream",
     "text": [
      "  9%|▉         | 900/10000 [04:43<53:19,  2.84it/s]"
     ]
    },
    {
     "name": "stdout",
     "output_type": "stream",
     "text": [
      "iter=900\tloss=982.376\tepsilon=0.100\treward/step=-8.90884\tpool_size=10000\n"
     ]
    },
    {
     "name": "stderr",
     "output_type": "stream",
     "text": [
      " 10%|▉         | 999/10000 [05:16<45:30,  3.30it/s][2016-12-20 02:47:36,630] Making new env: LunarLanderContinuous-v2\n",
      "[2016-12-20 02:47:36,633] Clearing 2 monitor files from previous run (because force=True was provided)\n"
     ]
    },
    {
     "name": "stdout",
     "output_type": "stream",
     "text": [
      "iter=1000\tloss=1018.703\tepsilon=0.100\treward/step=-9.48755\tpool_size=10000\n"
     ]
    },
    {
     "name": "stderr",
     "output_type": "stream",
     "text": [
      "[2016-12-20 02:47:36,912] Finished writing results. You can upload them to the scoreboard via gym.upload('/root/test/records')\n",
      " 10%|█         | 1000/10000 [05:17<57:52,  2.59it/s]"
     ]
    },
    {
     "name": "stdout",
     "output_type": "stream",
     "text": [
      "Current score(mean over 10) = -672.692\n"
     ]
    },
    {
     "name": "stderr",
     "output_type": "stream",
     "text": [
      " 11%|█         | 1100/10000 [05:48<47:17,  3.14it/s]"
     ]
    },
    {
     "name": "stdout",
     "output_type": "stream",
     "text": [
      "iter=1100\tloss=953.982\tepsilon=0.100\treward/step=-9.22121\tpool_size=10000\n"
     ]
    },
    {
     "name": "stderr",
     "output_type": "stream",
     "text": [
      " 12%|█▏        | 1200/10000 [06:21<48:11,  3.04it/s]"
     ]
    },
    {
     "name": "stdout",
     "output_type": "stream",
     "text": [
      "iter=1200\tloss=825.052\tepsilon=0.100\treward/step=-8.71766\tpool_size=10000\n"
     ]
    },
    {
     "name": "stderr",
     "output_type": "stream",
     "text": [
      " 13%|█▎        | 1300/10000 [06:55<50:59,  2.84it/s]"
     ]
    },
    {
     "name": "stdout",
     "output_type": "stream",
     "text": [
      "iter=1300\tloss=835.439\tepsilon=0.100\treward/step=-8.27674\tpool_size=10000\n"
     ]
    },
    {
     "name": "stderr",
     "output_type": "stream",
     "text": [
      " 14%|█▍        | 1400/10000 [07:27<43:46,  3.27it/s]"
     ]
    },
    {
     "name": "stdout",
     "output_type": "stream",
     "text": [
      "iter=1400\tloss=879.377\tepsilon=0.100\treward/step=-7.75656\tpool_size=10000\n"
     ]
    },
    {
     "name": "stderr",
     "output_type": "stream",
     "text": [
      " 15%|█▍        | 1499/10000 [08:00<48:56,  2.89it/s][2016-12-20 02:50:20,381] Making new env: LunarLanderContinuous-v2\n",
      "[2016-12-20 02:50:20,384] Clearing 2 monitor files from previous run (because force=True was provided)\n"
     ]
    },
    {
     "name": "stdout",
     "output_type": "stream",
     "text": [
      "iter=1500\tloss=744.566\tepsilon=0.100\treward/step=-7.13347\tpool_size=10000\n"
     ]
    },
    {
     "name": "stderr",
     "output_type": "stream",
     "text": [
      "[2016-12-20 02:50:20,632] Finished writing results. You can upload them to the scoreboard via gym.upload('/root/test/records')\n",
      " 15%|█▌        | 1500/10000 [08:00<58:47,  2.41it/s]"
     ]
    },
    {
     "name": "stdout",
     "output_type": "stream",
     "text": [
      "Current score(mean over 10) = -262.191\n"
     ]
    },
    {
     "name": "stderr",
     "output_type": "stream",
     "text": [
      " 16%|█▌        | 1600/10000 [08:34<45:22,  3.09it/s]"
     ]
    },
    {
     "name": "stdout",
     "output_type": "stream",
     "text": [
      "iter=1600\tloss=706.188\tepsilon=0.100\treward/step=-6.38985\tpool_size=10000\n"
     ]
    },
    {
     "name": "stderr",
     "output_type": "stream",
     "text": [
      " 17%|█▋        | 1700/10000 [09:10<51:25,  2.69it/s]"
     ]
    },
    {
     "name": "stdout",
     "output_type": "stream",
     "text": [
      "iter=1700\tloss=653.770\tepsilon=0.100\treward/step=-5.64742\tpool_size=10000\n"
     ]
    },
    {
     "name": "stderr",
     "output_type": "stream",
     "text": [
      " 18%|█▊        | 1800/10000 [09:45<52:58,  2.58it/s]"
     ]
    },
    {
     "name": "stdout",
     "output_type": "stream",
     "text": [
      "iter=1800\tloss=549.276\tepsilon=0.100\treward/step=-4.92264\tpool_size=10000\n"
     ]
    },
    {
     "name": "stderr",
     "output_type": "stream",
     "text": [
      " 19%|█▉        | 1900/10000 [10:23<50:25,  2.68it/s]"
     ]
    },
    {
     "name": "stdout",
     "output_type": "stream",
     "text": [
      "iter=1900\tloss=525.950\tepsilon=0.100\treward/step=-4.18643\tpool_size=10000\n"
     ]
    },
    {
     "name": "stderr",
     "output_type": "stream",
     "text": [
      " 20%|█▉        | 1999/10000 [10:59<53:20,  2.50it/s][2016-12-20 02:53:19,912] Making new env: LunarLanderContinuous-v2\n",
      "[2016-12-20 02:53:19,915] Clearing 2 monitor files from previous run (because force=True was provided)\n"
     ]
    },
    {
     "name": "stdout",
     "output_type": "stream",
     "text": [
      "iter=2000\tloss=450.060\tepsilon=0.100\treward/step=-3.55950\tpool_size=10000\n"
     ]
    },
    {
     "name": "stderr",
     "output_type": "stream",
     "text": [
      "[2016-12-20 02:53:21,525] Finished writing results. You can upload them to the scoreboard via gym.upload('/root/test/records')\n",
      " 20%|██        | 2000/10000 [11:01<1:58:17,  1.13it/s]"
     ]
    },
    {
     "name": "stdout",
     "output_type": "stream",
     "text": [
      "Current score(mean over 10) = -98.378\n"
     ]
    },
    {
     "name": "stderr",
     "output_type": "stream",
     "text": [
      " 21%|██        | 2100/10000 [11:36<41:20,  3.18it/s]"
     ]
    },
    {
     "name": "stdout",
     "output_type": "stream",
     "text": [
      "iter=2100\tloss=363.715\tepsilon=0.100\treward/step=-2.99490\tpool_size=10000\n"
     ]
    },
    {
     "name": "stderr",
     "output_type": "stream",
     "text": [
      " 22%|██▏       | 2200/10000 [12:11<46:56,  2.77it/s]"
     ]
    },
    {
     "name": "stdout",
     "output_type": "stream",
     "text": [
      "iter=2200\tloss=327.969\tepsilon=0.100\treward/step=-2.56396\tpool_size=10000\n"
     ]
    },
    {
     "name": "stderr",
     "output_type": "stream",
     "text": [
      " 23%|██▎       | 2300/10000 [12:50<50:40,  2.53it/s]"
     ]
    },
    {
     "name": "stdout",
     "output_type": "stream",
     "text": [
      "iter=2300\tloss=338.035\tepsilon=0.100\treward/step=-2.31326\tpool_size=10000\n"
     ]
    },
    {
     "name": "stderr",
     "output_type": "stream",
     "text": [
      " 24%|██▍       | 2400/10000 [13:29<49:23,  2.56it/s]"
     ]
    },
    {
     "name": "stdout",
     "output_type": "stream",
     "text": [
      "iter=2400\tloss=354.967\tepsilon=0.100\treward/step=-2.07251\tpool_size=10000\n"
     ]
    },
    {
     "name": "stderr",
     "output_type": "stream",
     "text": [
      " 25%|██▍       | 2499/10000 [14:07<48:13,  2.59it/s][2016-12-20 02:56:27,436] Making new env: LunarLanderContinuous-v2\n",
      "[2016-12-20 02:56:27,439] Clearing 2 monitor files from previous run (because force=True was provided)\n"
     ]
    },
    {
     "name": "stdout",
     "output_type": "stream",
     "text": [
      "iter=2500\tloss=266.341\tepsilon=0.100\treward/step=-1.83157\tpool_size=10000\n"
     ]
    },
    {
     "name": "stderr",
     "output_type": "stream",
     "text": [
      "[2016-12-20 02:56:28,125] Finished writing results. You can upload them to the scoreboard via gym.upload('/root/test/records')\n",
      " 25%|██▌       | 2500/10000 [14:08<1:14:17,  1.68it/s]"
     ]
    },
    {
     "name": "stdout",
     "output_type": "stream",
     "text": [
      "Current score(mean over 10) = -188.329\n"
     ]
    },
    {
     "name": "stderr",
     "output_type": "stream",
     "text": [
      " 26%|██▌       | 2600/10000 [14:46<49:05,  2.51it/s]"
     ]
    },
    {
     "name": "stdout",
     "output_type": "stream",
     "text": [
      "iter=2600\tloss=215.353\tepsilon=0.100\treward/step=-1.65054\tpool_size=10000\n"
     ]
    },
    {
     "name": "stderr",
     "output_type": "stream",
     "text": [
      " 27%|██▋       | 2700/10000 [15:29<44:40,  2.72it/s]"
     ]
    },
    {
     "name": "stdout",
     "output_type": "stream",
     "text": [
      "iter=2700\tloss=202.960\tepsilon=0.100\treward/step=-1.49282\tpool_size=10000\n"
     ]
    },
    {
     "name": "stderr",
     "output_type": "stream",
     "text": [
      " 28%|██▊       | 2800/10000 [16:16<43:28,  2.76it/s]"
     ]
    },
    {
     "name": "stdout",
     "output_type": "stream",
     "text": [
      "iter=2800\tloss=179.057\tepsilon=0.100\treward/step=-1.37405\tpool_size=10000\n"
     ]
    },
    {
     "name": "stderr",
     "output_type": "stream",
     "text": [
      " 29%|██▉       | 2900/10000 [16:55<1:10:30,  1.68it/s]"
     ]
    },
    {
     "name": "stdout",
     "output_type": "stream",
     "text": [
      "iter=2900\tloss=177.687\tepsilon=0.100\treward/step=-1.31892\tpool_size=10000\n"
     ]
    },
    {
     "name": "stderr",
     "output_type": "stream",
     "text": [
      " 30%|██▉       | 2999/10000 [17:33<39:43,  2.94it/s][2016-12-20 02:59:53,540] Making new env: LunarLanderContinuous-v2\n",
      "[2016-12-20 02:59:53,543] Clearing 2 monitor files from previous run (because force=True was provided)\n"
     ]
    },
    {
     "name": "stdout",
     "output_type": "stream",
     "text": [
      "iter=3000\tloss=159.363\tepsilon=0.100\treward/step=-1.24369\tpool_size=10000\n"
     ]
    },
    {
     "name": "stderr",
     "output_type": "stream",
     "text": [
      "[2016-12-20 02:59:54,271] Finished writing results. You can upload them to the scoreboard via gym.upload('/root/test/records')\n",
      " 30%|███       | 3000/10000 [17:34<1:10:36,  1.65it/s]"
     ]
    },
    {
     "name": "stdout",
     "output_type": "stream",
     "text": [
      "Current score(mean over 10) = -108.008\n"
     ]
    },
    {
     "name": "stderr",
     "output_type": "stream",
     "text": [
      " 31%|███       | 3100/10000 [18:18<1:59:57,  1.04s/it]"
     ]
    },
    {
     "name": "stdout",
     "output_type": "stream",
     "text": [
      "iter=3100\tloss=142.187\tepsilon=0.100\treward/step=-1.18087\tpool_size=10000\n"
     ]
    },
    {
     "name": "stderr",
     "output_type": "stream",
     "text": [
      " 32%|███▏      | 3200/10000 [18:55<38:13,  2.96it/s]"
     ]
    },
    {
     "name": "stdout",
     "output_type": "stream",
     "text": [
      "iter=3200\tloss=134.616\tepsilon=0.100\treward/step=-1.06010\tpool_size=10000\n"
     ]
    },
    {
     "name": "stderr",
     "output_type": "stream",
     "text": [
      " 33%|███▎      | 3300/10000 [19:38<41:49,  2.67it/s]"
     ]
    },
    {
     "name": "stdout",
     "output_type": "stream",
     "text": [
      "iter=3300\tloss=128.637\tepsilon=0.100\treward/step=-0.86706\tpool_size=10000\n"
     ]
    },
    {
     "name": "stderr",
     "output_type": "stream",
     "text": [
      " 34%|███▍      | 3400/10000 [20:29<46:53,  2.35it/s]"
     ]
    },
    {
     "name": "stdout",
     "output_type": "stream",
     "text": [
      "iter=3400\tloss=110.898\tepsilon=0.100\treward/step=-0.72284\tpool_size=10000\n"
     ]
    },
    {
     "name": "stderr",
     "output_type": "stream",
     "text": [
      " 35%|███▍      | 3499/10000 [21:16<36:33,  2.96it/s][2016-12-20 03:03:36,527] Making new env: LunarLanderContinuous-v2\n",
      "[2016-12-20 03:03:36,531] Clearing 2 monitor files from previous run (because force=True was provided)\n"
     ]
    },
    {
     "name": "stdout",
     "output_type": "stream",
     "text": [
      "iter=3500\tloss=100.830\tepsilon=0.100\treward/step=-0.65711\tpool_size=10000\n"
     ]
    },
    {
     "name": "stderr",
     "output_type": "stream",
     "text": [
      "[2016-12-20 03:03:43,957] Finished writing results. You can upload them to the scoreboard via gym.upload('/root/test/records')\n",
      " 35%|███▌      | 3500/10000 [21:24<4:38:22,  2.57s/it]"
     ]
    },
    {
     "name": "stdout",
     "output_type": "stream",
     "text": [
      "Current score(mean over 10) = -134.572\n"
     ]
    },
    {
     "name": "stderr",
     "output_type": "stream",
     "text": [
      " 36%|███▌      | 3600/10000 [22:06<39:47,  2.68it/s]"
     ]
    },
    {
     "name": "stdout",
     "output_type": "stream",
     "text": [
      "iter=3600\tloss=101.102\tepsilon=0.100\treward/step=-0.62976\tpool_size=10000\n"
     ]
    },
    {
     "name": "stderr",
     "output_type": "stream",
     "text": [
      " 37%|███▋      | 3700/10000 [23:08<2:23:41,  1.37s/it]"
     ]
    },
    {
     "name": "stdout",
     "output_type": "stream",
     "text": [
      "iter=3700\tloss=108.228\tepsilon=0.100\treward/step=-0.59716\tpool_size=10000\n"
     ]
    },
    {
     "name": "stderr",
     "output_type": "stream",
     "text": [
      " 38%|███▊      | 3800/10000 [24:02<36:43,  2.81it/s]"
     ]
    },
    {
     "name": "stdout",
     "output_type": "stream",
     "text": [
      "iter=3800\tloss=105.755\tepsilon=0.100\treward/step=-0.58683\tpool_size=10000\n"
     ]
    },
    {
     "name": "stderr",
     "output_type": "stream",
     "text": [
      " 39%|███▉      | 3900/10000 [25:20<1:48:47,  1.07s/it]"
     ]
    },
    {
     "name": "stdout",
     "output_type": "stream",
     "text": [
      "iter=3900\tloss=97.102\tepsilon=0.100\treward/step=-0.54375\tpool_size=10000\n"
     ]
    },
    {
     "name": "stderr",
     "output_type": "stream",
     "text": [
      " 40%|███▉      | 3999/10000 [26:30<57:15,  1.75it/s][2016-12-20 03:08:51,179] Making new env: LunarLanderContinuous-v2\n",
      "[2016-12-20 03:08:51,184] Clearing 2 monitor files from previous run (because force=True was provided)\n"
     ]
    },
    {
     "name": "stdout",
     "output_type": "stream",
     "text": [
      "iter=4000\tloss=100.343\tepsilon=0.100\treward/step=-0.45130\tpool_size=10000\n"
     ]
    },
    {
     "name": "stderr",
     "output_type": "stream",
     "text": [
      "[2016-12-20 03:09:05,697] Finished writing results. You can upload them to the scoreboard via gym.upload('/root/test/records')\n",
      " 40%|████      | 4000/10000 [26:45<8:14:52,  4.95s/it]"
     ]
    },
    {
     "name": "stdout",
     "output_type": "stream",
     "text": [
      "Current score(mean over 10) = -104.452\n"
     ]
    },
    {
     "name": "stderr",
     "output_type": "stream",
     "text": [
      " 41%|████      | 4100/10000 [28:09<2:45:56,  1.69s/it]"
     ]
    },
    {
     "name": "stdout",
     "output_type": "stream",
     "text": [
      "iter=4100\tloss=94.229\tepsilon=0.100\treward/step=-0.39504\tpool_size=10000\n"
     ]
    },
    {
     "name": "stderr",
     "output_type": "stream",
     "text": [
      " 42%|████▏     | 4200/10000 [31:56<6:07:08,  3.80s/it]"
     ]
    },
    {
     "name": "stdout",
     "output_type": "stream",
     "text": [
      "iter=4200\tloss=83.724\tepsilon=0.100\treward/step=-0.32480\tpool_size=10000\n"
     ]
    },
    {
     "name": "stderr",
     "output_type": "stream",
     "text": [
      " 43%|████▎     | 4300/10000 [38:06<57:34,  1.65it/s]"
     ]
    },
    {
     "name": "stdout",
     "output_type": "stream",
     "text": [
      "iter=4300\tloss=82.299\tepsilon=0.100\treward/step=-0.29800\tpool_size=10000\n"
     ]
    },
    {
     "name": "stderr",
     "output_type": "stream",
     "text": [
      " 44%|████▍     | 4400/10000 [39:18<1:58:09,  1.27s/it]"
     ]
    },
    {
     "name": "stdout",
     "output_type": "stream",
     "text": [
      "iter=4400\tloss=66.766\tepsilon=0.100\treward/step=-0.24835\tpool_size=10000\n"
     ]
    },
    {
     "name": "stderr",
     "output_type": "stream",
     "text": [
      " 45%|████▍     | 4499/10000 [41:15<40:04,  2.29it/s][2016-12-20 03:23:35,445] Making new env: LunarLanderContinuous-v2\n",
      "[2016-12-20 03:23:35,449] Clearing 2 monitor files from previous run (because force=True was provided)\n"
     ]
    },
    {
     "name": "stdout",
     "output_type": "stream",
     "text": [
      "iter=4500\tloss=57.567\tepsilon=0.100\treward/step=-0.20193\tpool_size=10000\n"
     ]
    },
    {
     "name": "stderr",
     "output_type": "stream",
     "text": [
      "[2016-12-20 03:23:41,441] Finished writing results. You can upload them to the scoreboard via gym.upload('/root/test/records')\n",
      " 45%|████▌     | 4500/10000 [41:21<3:22:58,  2.21s/it]"
     ]
    },
    {
     "name": "stdout",
     "output_type": "stream",
     "text": [
      "Current score(mean over 10) = -45.995\n"
     ]
    },
    {
     "name": "stderr",
     "output_type": "stream",
     "text": [
      " 46%|████▌     | 4600/10000 [42:12<1:02:17,  1.45it/s]"
     ]
    },
    {
     "name": "stdout",
     "output_type": "stream",
     "text": [
      "iter=4600\tloss=62.515\tepsilon=0.100\treward/step=-0.17642\tpool_size=10000\n"
     ]
    },
    {
     "name": "stderr",
     "output_type": "stream",
     "text": [
      " 47%|████▋     | 4700/10000 [43:05<57:55,  1.52it/s]"
     ]
    },
    {
     "name": "stdout",
     "output_type": "stream",
     "text": [
      "iter=4700\tloss=56.913\tepsilon=0.100\treward/step=-0.15547\tpool_size=10000\n"
     ]
    },
    {
     "name": "stderr",
     "output_type": "stream",
     "text": [
      " 48%|████▊     | 4800/10000 [43:49<29:39,  2.92it/s]"
     ]
    },
    {
     "name": "stdout",
     "output_type": "stream",
     "text": [
      "iter=4800\tloss=60.031\tepsilon=0.100\treward/step=-0.11686\tpool_size=10000\n"
     ]
    },
    {
     "name": "stderr",
     "output_type": "stream",
     "text": [
      " 49%|████▉     | 4900/10000 [44:27<39:21,  2.16it/s]"
     ]
    },
    {
     "name": "stdout",
     "output_type": "stream",
     "text": [
      "iter=4900\tloss=64.595\tepsilon=0.100\treward/step=-0.10450\tpool_size=10000\n"
     ]
    },
    {
     "name": "stderr",
     "output_type": "stream",
     "text": [
      " 50%|████▉     | 4999/10000 [45:09<32:52,  2.53it/s][2016-12-20 03:27:29,654] Making new env: LunarLanderContinuous-v2\n",
      "[2016-12-20 03:27:29,658] Clearing 2 monitor files from previous run (because force=True was provided)\n"
     ]
    },
    {
     "name": "stdout",
     "output_type": "stream",
     "text": [
      "iter=5000\tloss=74.715\tepsilon=0.100\treward/step=-0.09341\tpool_size=10000\n"
     ]
    },
    {
     "name": "stderr",
     "output_type": "stream",
     "text": [
      "[2016-12-20 03:27:38,578] Finished writing results. You can upload them to the scoreboard via gym.upload('/root/test/records')\n",
      " 50%|█████     | 5000/10000 [45:18<4:14:51,  3.06s/it]"
     ]
    },
    {
     "name": "stdout",
     "output_type": "stream",
     "text": [
      "Current score(mean over 10) = -41.081\n"
     ]
    },
    {
     "name": "stderr",
     "output_type": "stream",
     "text": [
      " 51%|█████     | 5100/10000 [45:59<37:27,  2.18it/s]"
     ]
    },
    {
     "name": "stdout",
     "output_type": "stream",
     "text": [
      "iter=5100\tloss=90.267\tepsilon=0.100\treward/step=-0.12405\tpool_size=10000\n"
     ]
    },
    {
     "name": "stderr",
     "output_type": "stream",
     "text": [
      " 52%|█████▏    | 5200/10000 [46:39<30:17,  2.64it/s]"
     ]
    },
    {
     "name": "stdout",
     "output_type": "stream",
     "text": [
      "iter=5200\tloss=95.165\tepsilon=0.100\treward/step=-0.09413\tpool_size=10000\n"
     ]
    },
    {
     "name": "stderr",
     "output_type": "stream",
     "text": [
      " 53%|█████▎    | 5300/10000 [47:23<32:33,  2.41it/s]"
     ]
    },
    {
     "name": "stdout",
     "output_type": "stream",
     "text": [
      "iter=5300\tloss=118.028\tepsilon=0.100\treward/step=-0.09479\tpool_size=10000\n"
     ]
    },
    {
     "name": "stderr",
     "output_type": "stream",
     "text": [
      " 54%|█████▍    | 5400/10000 [48:07<31:29,  2.43it/s]"
     ]
    },
    {
     "name": "stdout",
     "output_type": "stream",
     "text": [
      "iter=5400\tloss=133.022\tepsilon=0.100\treward/step=-0.09520\tpool_size=10000\n"
     ]
    },
    {
     "name": "stderr",
     "output_type": "stream",
     "text": [
      " 55%|█████▍    | 5499/10000 [48:47<28:57,  2.59it/s][2016-12-20 03:31:08,172] Making new env: LunarLanderContinuous-v2\n",
      "[2016-12-20 03:31:08,176] Clearing 2 monitor files from previous run (because force=True was provided)\n"
     ]
    },
    {
     "name": "stdout",
     "output_type": "stream",
     "text": [
      "iter=5500\tloss=148.665\tepsilon=0.100\treward/step=-0.16993\tpool_size=10000\n"
     ]
    },
    {
     "name": "stderr",
     "output_type": "stream",
     "text": [
      "[2016-12-20 03:31:11,193] Finished writing results. You can upload them to the scoreboard via gym.upload('/root/test/records')\n",
      " 55%|█████▌    | 5500/10000 [48:51<1:37:29,  1.30s/it]"
     ]
    },
    {
     "name": "stdout",
     "output_type": "stream",
     "text": [
      "Current score(mean over 10) = -254.104\n"
     ]
    },
    {
     "name": "stderr",
     "output_type": "stream",
     "text": [
      " 56%|█████▌    | 5600/10000 [49:35<26:25,  2.78it/s]"
     ]
    },
    {
     "name": "stdout",
     "output_type": "stream",
     "text": [
      "iter=5600\tloss=161.617\tepsilon=0.100\treward/step=-0.17116\tpool_size=10000\n"
     ]
    },
    {
     "name": "stderr",
     "output_type": "stream",
     "text": [
      " 57%|█████▋    | 5700/10000 [50:20<27:20,  2.62it/s]"
     ]
    },
    {
     "name": "stdout",
     "output_type": "stream",
     "text": [
      "iter=5700\tloss=176.264\tepsilon=0.100\treward/step=-0.23461\tpool_size=10000\n"
     ]
    },
    {
     "name": "stderr",
     "output_type": "stream",
     "text": [
      " 58%|█████▊    | 5800/10000 [51:14<31:30,  2.22it/s]"
     ]
    },
    {
     "name": "stdout",
     "output_type": "stream",
     "text": [
      "iter=5800\tloss=178.955\tepsilon=0.100\treward/step=-0.26186\tpool_size=10000\n"
     ]
    },
    {
     "name": "stderr",
     "output_type": "stream",
     "text": [
      " 59%|█████▉    | 5900/10000 [51:58<27:07,  2.52it/s]"
     ]
    },
    {
     "name": "stdout",
     "output_type": "stream",
     "text": [
      "iter=5900\tloss=169.505\tepsilon=0.100\treward/step=-0.28457\tpool_size=10000\n"
     ]
    },
    {
     "name": "stderr",
     "output_type": "stream",
     "text": [
      " 60%|█████▉    | 5999/10000 [52:43<34:11,  1.95it/s][2016-12-20 03:35:03,300] Making new env: LunarLanderContinuous-v2\n",
      "[2016-12-20 03:35:03,304] Clearing 2 monitor files from previous run (because force=True was provided)\n"
     ]
    },
    {
     "name": "stdout",
     "output_type": "stream",
     "text": [
      "iter=6000\tloss=172.287\tepsilon=0.100\treward/step=-0.31153\tpool_size=10000\n"
     ]
    },
    {
     "name": "stderr",
     "output_type": "stream",
     "text": [
      "[2016-12-20 03:35:11,262] Finished writing results. You can upload them to the scoreboard via gym.upload('/root/test/records')\n",
      " 60%|██████    | 6000/10000 [52:51<3:10:58,  2.86s/it]"
     ]
    },
    {
     "name": "stdout",
     "output_type": "stream",
     "text": [
      "Current score(mean over 10) = -245.789\n"
     ]
    },
    {
     "name": "stderr",
     "output_type": "stream",
     "text": [
      " 61%|██████    | 6100/10000 [53:37<34:12,  1.90it/s]"
     ]
    },
    {
     "name": "stdout",
     "output_type": "stream",
     "text": [
      "iter=6100\tloss=169.969\tepsilon=0.100\treward/step=-0.31158\tpool_size=10000\n"
     ]
    },
    {
     "name": "stderr",
     "output_type": "stream",
     "text": [
      " 62%|██████▏   | 6200/10000 [54:22<29:37,  2.14it/s]"
     ]
    },
    {
     "name": "stdout",
     "output_type": "stream",
     "text": [
      "iter=6200\tloss=177.224\tepsilon=0.100\treward/step=-0.34158\tpool_size=10000\n"
     ]
    },
    {
     "name": "stderr",
     "output_type": "stream",
     "text": [
      " 63%|██████▎   | 6300/10000 [55:07<24:45,  2.49it/s]"
     ]
    },
    {
     "name": "stdout",
     "output_type": "stream",
     "text": [
      "iter=6300\tloss=155.869\tepsilon=0.100\treward/step=-0.31345\tpool_size=10000\n"
     ]
    },
    {
     "name": "stderr",
     "output_type": "stream",
     "text": [
      " 64%|██████▍   | 6400/10000 [55:49<28:51,  2.08it/s]"
     ]
    },
    {
     "name": "stdout",
     "output_type": "stream",
     "text": [
      "iter=6400\tloss=154.559\tepsilon=0.100\treward/step=-0.30579\tpool_size=10000\n"
     ]
    },
    {
     "name": "stderr",
     "output_type": "stream",
     "text": [
      " 65%|██████▍   | 6499/10000 [56:37<27:48,  2.10it/s][2016-12-20 03:38:57,588] Making new env: LunarLanderContinuous-v2\n",
      "[2016-12-20 03:38:57,592] Clearing 2 monitor files from previous run (because force=True was provided)\n"
     ]
    },
    {
     "name": "stdout",
     "output_type": "stream",
     "text": [
      "iter=6500\tloss=141.863\tepsilon=0.100\treward/step=-0.22131\tpool_size=10000\n"
     ]
    },
    {
     "name": "stderr",
     "output_type": "stream",
     "text": [
      "[2016-12-20 03:39:09,299] Finished writing results. You can upload them to the scoreboard via gym.upload('/root/test/records')\n",
      " 65%|██████▌   | 6500/10000 [56:49<3:50:17,  3.95s/it]"
     ]
    },
    {
     "name": "stdout",
     "output_type": "stream",
     "text": [
      "Current score(mean over 10) = 30.240\n"
     ]
    },
    {
     "name": "stderr",
     "output_type": "stream",
     "text": [
      " 66%|██████▌   | 6600/10000 [57:43<26:37,  2.13it/s]"
     ]
    },
    {
     "name": "stdout",
     "output_type": "stream",
     "text": [
      "iter=6600\tloss=131.279\tepsilon=0.100\treward/step=-0.19199\tpool_size=10000\n"
     ]
    },
    {
     "name": "stderr",
     "output_type": "stream",
     "text": [
      " 67%|██████▋   | 6700/10000 [58:30<30:54,  1.78it/s]"
     ]
    },
    {
     "name": "stdout",
     "output_type": "stream",
     "text": [
      "iter=6700\tloss=116.873\tepsilon=0.100\treward/step=-0.09462\tpool_size=10000\n"
     ]
    },
    {
     "name": "stderr",
     "output_type": "stream",
     "text": [
      " 68%|██████▊   | 6800/10000 [59:23<22:15,  2.40it/s]"
     ]
    },
    {
     "name": "stdout",
     "output_type": "stream",
     "text": [
      "iter=6800\tloss=110.444\tepsilon=0.100\treward/step=-0.04786\tpool_size=10000\n"
     ]
    },
    {
     "name": "stderr",
     "output_type": "stream",
     "text": [
      " 69%|██████▉   | 6900/10000 [1:00:17<33:22,  1.55it/s]"
     ]
    },
    {
     "name": "stdout",
     "output_type": "stream",
     "text": [
      "iter=6900\tloss=104.499\tepsilon=0.100\treward/step=-0.01305\tpool_size=10000\n"
     ]
    },
    {
     "name": "stderr",
     "output_type": "stream",
     "text": [
      " 70%|██████▉   | 6999/10000 [1:01:06<28:11,  1.77it/s][2016-12-20 03:43:27,312] Making new env: LunarLanderContinuous-v2\n",
      "[2016-12-20 03:43:27,317] Clearing 2 monitor files from previous run (because force=True was provided)\n"
     ]
    },
    {
     "name": "stdout",
     "output_type": "stream",
     "text": [
      "iter=7000\tloss=101.975\tepsilon=0.100\treward/step=-0.00445\tpool_size=10000\n"
     ]
    },
    {
     "name": "stderr",
     "output_type": "stream",
     "text": [
      "[2016-12-20 03:43:49,105] Finished writing results. You can upload them to the scoreboard via gym.upload('/root/test/records')\n",
      " 70%|███████   | 7000/10000 [1:01:29<5:56:56,  7.14s/it]"
     ]
    },
    {
     "name": "stdout",
     "output_type": "stream",
     "text": [
      "Current score(mean over 10) = -147.331\n"
     ]
    },
    {
     "name": "stderr",
     "output_type": "stream",
     "text": [
      " 71%|███████   | 7100/10000 [1:02:18<18:46,  2.57it/s]"
     ]
    },
    {
     "name": "stdout",
     "output_type": "stream",
     "text": [
      "iter=7100\tloss=98.010\tepsilon=0.100\treward/step=0.02652\tpool_size=10000\n"
     ]
    },
    {
     "name": "stderr",
     "output_type": "stream",
     "text": [
      " 72%|███████▏  | 7200/10000 [1:03:09<29:56,  1.56it/s]"
     ]
    },
    {
     "name": "stdout",
     "output_type": "stream",
     "text": [
      "iter=7200\tloss=88.504\tepsilon=0.100\treward/step=0.02895\tpool_size=10000\n"
     ]
    },
    {
     "name": "stderr",
     "output_type": "stream",
     "text": [
      " 73%|███████▎  | 7300/10000 [1:03:58<34:41,  1.30it/s]"
     ]
    },
    {
     "name": "stdout",
     "output_type": "stream",
     "text": [
      "iter=7300\tloss=94.053\tepsilon=0.100\treward/step=0.04379\tpool_size=10000\n"
     ]
    },
    {
     "name": "stderr",
     "output_type": "stream",
     "text": [
      " 74%|███████▍  | 7400/10000 [1:04:40<16:53,  2.56it/s]"
     ]
    },
    {
     "name": "stdout",
     "output_type": "stream",
     "text": [
      "iter=7400\tloss=114.194\tepsilon=0.100\treward/step=0.03239\tpool_size=10000\n"
     ]
    },
    {
     "name": "stderr",
     "output_type": "stream",
     "text": [
      " 75%|███████▍  | 7499/10000 [1:05:21<16:30,  2.52it/s][2016-12-20 03:47:41,586] Making new env: LunarLanderContinuous-v2\n",
      "[2016-12-20 03:47:41,590] Clearing 2 monitor files from previous run (because force=True was provided)\n"
     ]
    },
    {
     "name": "stdout",
     "output_type": "stream",
     "text": [
      "iter=7500\tloss=118.234\tepsilon=0.100\treward/step=0.00055\tpool_size=10000\n"
     ]
    },
    {
     "name": "stderr",
     "output_type": "stream",
     "text": [
      "[2016-12-20 03:47:44,121] Finished writing results. You can upload them to the scoreboard via gym.upload('/root/test/records')\n",
      " 75%|███████▌  | 7500/10000 [1:05:24<47:15,  1.13s/it]"
     ]
    },
    {
     "name": "stdout",
     "output_type": "stream",
     "text": [
      "Current score(mean over 10) = 127.825\n"
     ]
    },
    {
     "name": "stderr",
     "output_type": "stream",
     "text": [
      " 76%|███████▌  | 7600/10000 [1:06:05<19:35,  2.04it/s]"
     ]
    },
    {
     "name": "stdout",
     "output_type": "stream",
     "text": [
      "iter=7600\tloss=130.711\tepsilon=0.100\treward/step=-0.01346\tpool_size=10000\n"
     ]
    },
    {
     "name": "stderr",
     "output_type": "stream",
     "text": [
      " 77%|███████▋  | 7700/10000 [1:07:03<42:12,  1.10s/it]"
     ]
    },
    {
     "name": "stdout",
     "output_type": "stream",
     "text": [
      "iter=7700\tloss=122.417\tepsilon=0.100\treward/step=-0.06798\tpool_size=10000\n"
     ]
    },
    {
     "name": "stderr",
     "output_type": "stream",
     "text": [
      " 78%|███████▊  | 7800/10000 [1:07:54<16:18,  2.25it/s]"
     ]
    },
    {
     "name": "stdout",
     "output_type": "stream",
     "text": [
      "iter=7800\tloss=137.693\tepsilon=0.100\treward/step=-0.12341\tpool_size=10000\n"
     ]
    },
    {
     "name": "stderr",
     "output_type": "stream",
     "text": [
      " 79%|███████▉  | 7900/10000 [1:08:45<15:09,  2.31it/s]"
     ]
    },
    {
     "name": "stdout",
     "output_type": "stream",
     "text": [
      "iter=7900\tloss=131.276\tepsilon=0.100\treward/step=-0.14556\tpool_size=10000\n"
     ]
    },
    {
     "name": "stderr",
     "output_type": "stream",
     "text": [
      " 80%|███████▉  | 7999/10000 [1:09:34<16:58,  1.96it/s][2016-12-20 03:51:54,458] Making new env: LunarLanderContinuous-v2\n",
      "[2016-12-20 03:51:54,461] Clearing 2 monitor files from previous run (because force=True was provided)\n"
     ]
    },
    {
     "name": "stdout",
     "output_type": "stream",
     "text": [
      "iter=8000\tloss=134.631\tepsilon=0.100\treward/step=-0.14027\tpool_size=10000\n"
     ]
    },
    {
     "name": "stderr",
     "output_type": "stream",
     "text": [
      "[2016-12-20 03:52:02,711] Finished writing results. You can upload them to the scoreboard via gym.upload('/root/test/records')\n",
      " 80%|████████  | 8000/10000 [1:09:42<1:37:42,  2.93s/it]"
     ]
    },
    {
     "name": "stdout",
     "output_type": "stream",
     "text": [
      "Current score(mean over 10) = 70.174\n"
     ]
    },
    {
     "name": "stderr",
     "output_type": "stream",
     "text": [
      " 81%|████████  | 8100/10000 [1:10:30<12:22,  2.56it/s]"
     ]
    },
    {
     "name": "stdout",
     "output_type": "stream",
     "text": [
      "iter=8100\tloss=116.257\tepsilon=0.100\treward/step=-0.10588\tpool_size=10000\n"
     ]
    },
    {
     "name": "stderr",
     "output_type": "stream",
     "text": [
      " 82%|████████▏ | 8200/10000 [1:11:14<16:12,  1.85it/s]"
     ]
    },
    {
     "name": "stdout",
     "output_type": "stream",
     "text": [
      "iter=8200\tloss=118.429\tepsilon=0.100\treward/step=-0.08402\tpool_size=10000\n"
     ]
    },
    {
     "name": "stderr",
     "output_type": "stream",
     "text": [
      " 83%|████████▎ | 8300/10000 [1:11:55<11:56,  2.37it/s]"
     ]
    },
    {
     "name": "stdout",
     "output_type": "stream",
     "text": [
      "iter=8300\tloss=114.803\tepsilon=0.100\treward/step=-0.07031\tpool_size=10000\n"
     ]
    },
    {
     "name": "stderr",
     "output_type": "stream",
     "text": [
      " 84%|████████▍ | 8400/10000 [1:12:41<09:33,  2.79it/s]"
     ]
    },
    {
     "name": "stdout",
     "output_type": "stream",
     "text": [
      "iter=8400\tloss=101.027\tepsilon=0.100\treward/step=-0.03188\tpool_size=10000\n"
     ]
    },
    {
     "name": "stderr",
     "output_type": "stream",
     "text": [
      " 85%|████████▍ | 8499/10000 [1:13:26<12:44,  1.96it/s][2016-12-20 03:55:46,528] Making new env: LunarLanderContinuous-v2\n",
      "[2016-12-20 03:55:46,533] Clearing 2 monitor files from previous run (because force=True was provided)\n"
     ]
    },
    {
     "name": "stdout",
     "output_type": "stream",
     "text": [
      "iter=8500\tloss=95.125\tepsilon=0.100\treward/step=0.02658\tpool_size=10000\n"
     ]
    },
    {
     "name": "stderr",
     "output_type": "stream",
     "text": [
      "[2016-12-20 03:55:53,013] Finished writing results. You can upload them to the scoreboard via gym.upload('/root/test/records')\n",
      " 85%|████████▌ | 8500/10000 [1:13:33<1:00:23,  2.42s/it]"
     ]
    },
    {
     "name": "stdout",
     "output_type": "stream",
     "text": [
      "Current score(mean over 10) = 109.713\n"
     ]
    },
    {
     "name": "stderr",
     "output_type": "stream",
     "text": [
      " 86%|████████▌ | 8600/10000 [1:14:15<11:25,  2.04it/s]"
     ]
    },
    {
     "name": "stdout",
     "output_type": "stream",
     "text": [
      "iter=8600\tloss=95.580\tepsilon=0.100\treward/step=0.04969\tpool_size=10000\n"
     ]
    },
    {
     "name": "stderr",
     "output_type": "stream",
     "text": [
      " 87%|████████▋ | 8700/10000 [1:14:56<08:25,  2.57it/s]"
     ]
    },
    {
     "name": "stdout",
     "output_type": "stream",
     "text": [
      "iter=8700\tloss=106.662\tepsilon=0.100\treward/step=0.07587\tpool_size=10000\n"
     ]
    },
    {
     "name": "stderr",
     "output_type": "stream",
     "text": [
      " 88%|████████▊ | 8800/10000 [1:15:37<07:17,  2.74it/s]"
     ]
    },
    {
     "name": "stdout",
     "output_type": "stream",
     "text": [
      "iter=8800\tloss=114.993\tepsilon=0.100\treward/step=0.10171\tpool_size=10000\n"
     ]
    },
    {
     "name": "stderr",
     "output_type": "stream",
     "text": [
      " 89%|████████▉ | 8900/10000 [1:16:19<06:38,  2.76it/s]"
     ]
    },
    {
     "name": "stdout",
     "output_type": "stream",
     "text": [
      "iter=8900\tloss=121.373\tepsilon=0.100\treward/step=0.12759\tpool_size=10000\n"
     ]
    },
    {
     "name": "stderr",
     "output_type": "stream",
     "text": [
      " 90%|████████▉ | 8999/10000 [1:17:01<05:46,  2.89it/s][2016-12-20 03:59:22,015] Making new env: LunarLanderContinuous-v2\n",
      "[2016-12-20 03:59:22,020] Clearing 2 monitor files from previous run (because force=True was provided)\n"
     ]
    },
    {
     "name": "stdout",
     "output_type": "stream",
     "text": [
      "iter=9000\tloss=125.082\tepsilon=0.100\treward/step=0.14466\tpool_size=10000\n"
     ]
    },
    {
     "name": "stderr",
     "output_type": "stream",
     "text": [
      "[2016-12-20 03:59:24,767] Finished writing results. You can upload them to the scoreboard via gym.upload('/root/test/records')\n",
      " 90%|█████████ | 9000/10000 [1:17:04<19:49,  1.19s/it]"
     ]
    },
    {
     "name": "stdout",
     "output_type": "stream",
     "text": [
      "Current score(mean over 10) = -18.190\n"
     ]
    },
    {
     "name": "stderr",
     "output_type": "stream",
     "text": [
      " 91%|█████████ | 9100/10000 [1:18:25<28:39,  1.91s/it]"
     ]
    },
    {
     "name": "stdout",
     "output_type": "stream",
     "text": [
      "iter=9100\tloss=129.189\tepsilon=0.100\treward/step=0.13220\tpool_size=10000\n"
     ]
    },
    {
     "name": "stderr",
     "output_type": "stream",
     "text": [
      " 92%|█████████▏| 9200/10000 [1:19:12<04:43,  2.82it/s]"
     ]
    },
    {
     "name": "stdout",
     "output_type": "stream",
     "text": [
      "iter=9200\tloss=119.193\tepsilon=0.100\treward/step=0.12913\tpool_size=10000\n"
     ]
    },
    {
     "name": "stderr",
     "output_type": "stream",
     "text": [
      " 93%|█████████▎| 9300/10000 [1:19:55<05:19,  2.19it/s]"
     ]
    },
    {
     "name": "stdout",
     "output_type": "stream",
     "text": [
      "iter=9300\tloss=142.894\tepsilon=0.100\treward/step=0.09527\tpool_size=10000\n"
     ]
    },
    {
     "name": "stderr",
     "output_type": "stream",
     "text": [
      " 94%|█████████▍| 9400/10000 [1:20:35<03:38,  2.75it/s]"
     ]
    },
    {
     "name": "stdout",
     "output_type": "stream",
     "text": [
      "iter=9400\tloss=149.170\tepsilon=0.100\treward/step=0.07702\tpool_size=10000\n"
     ]
    },
    {
     "name": "stderr",
     "output_type": "stream",
     "text": [
      " 95%|█████████▍| 9499/10000 [1:21:28<03:15,  2.56it/s][2016-12-20 04:03:48,338] Making new env: LunarLanderContinuous-v2\n",
      "[2016-12-20 04:03:48,342] Clearing 2 monitor files from previous run (because force=True was provided)\n"
     ]
    },
    {
     "name": "stdout",
     "output_type": "stream",
     "text": [
      "iter=9500\tloss=158.757\tepsilon=0.100\treward/step=0.05628\tpool_size=10000\n"
     ]
    },
    {
     "name": "stderr",
     "output_type": "stream",
     "text": [
      "[2016-12-20 04:03:51,676] Finished writing results. You can upload them to the scoreboard via gym.upload('/root/test/records')\n",
      " 95%|█████████▌| 9500/10000 [1:21:31<11:36,  1.39s/it]"
     ]
    },
    {
     "name": "stdout",
     "output_type": "stream",
     "text": [
      "Current score(mean over 10) = 39.982\n"
     ]
    },
    {
     "name": "stderr",
     "output_type": "stream",
     "text": [
      " 96%|█████████▌| 9600/10000 [1:22:16<02:59,  2.23it/s]"
     ]
    },
    {
     "name": "stdout",
     "output_type": "stream",
     "text": [
      "iter=9600\tloss=139.181\tepsilon=0.100\treward/step=0.06860\tpool_size=10000\n"
     ]
    },
    {
     "name": "stderr",
     "output_type": "stream",
     "text": [
      " 97%|█████████▋| 9700/10000 [1:23:07<02:45,  1.81it/s]"
     ]
    },
    {
     "name": "stdout",
     "output_type": "stream",
     "text": [
      "iter=9700\tloss=131.898\tepsilon=0.100\treward/step=0.08860\tpool_size=10000\n"
     ]
    },
    {
     "name": "stderr",
     "output_type": "stream",
     "text": [
      " 98%|█████████▊| 9800/10000 [1:23:51<01:21,  2.45it/s]"
     ]
    },
    {
     "name": "stdout",
     "output_type": "stream",
     "text": [
      "iter=9800\tloss=129.585\tepsilon=0.100\treward/step=0.13425\tpool_size=10000\n"
     ]
    },
    {
     "name": "stderr",
     "output_type": "stream",
     "text": [
      " 99%|█████████▉| 9900/10000 [1:24:37<00:38,  2.60it/s]"
     ]
    },
    {
     "name": "stdout",
     "output_type": "stream",
     "text": [
      "iter=9900\tloss=119.895\tepsilon=0.100\treward/step=0.14723\tpool_size=10000\n"
     ]
    },
    {
     "name": "stderr",
     "output_type": "stream",
     "text": [
      "100%|█████████▉| 9999/10000 [1:25:32<00:00,  2.20it/s][2016-12-20 04:07:52,347] Making new env: LunarLanderContinuous-v2\n",
      "[2016-12-20 04:07:52,351] Clearing 2 monitor files from previous run (because force=True was provided)\n"
     ]
    },
    {
     "name": "stdout",
     "output_type": "stream",
     "text": [
      "iter=10000\tloss=117.013\tepsilon=0.100\treward/step=0.15712\tpool_size=10000\n"
     ]
    },
    {
     "name": "stderr",
     "output_type": "stream",
     "text": [
      "[2016-12-20 04:07:55,274] Finished writing results. You can upload them to the scoreboard via gym.upload('/root/test/records')\n",
      "100%|██████████| 10000/10000 [1:25:35<00:00,  1.32s/it]"
     ]
    },
    {
     "name": "stdout",
     "output_type": "stream",
     "text": [
      "Current score(mean over 10) = 106.265\n"
     ]
    },
    {
     "name": "stderr",
     "output_type": "stream",
     "text": [
      "\n"
     ]
    }
   ],
   "source": [
    "epsilon.set_value(0.1)\n",
    "#the loop may take eons to finish.\n",
    "#consider interrupting early.\n",
    "for i in tqdm(range(10000)):    \n",
    "    \n",
    "    \n",
    "    #train\n",
    "    for i in range(10):\n",
    "        pool.update(SEQ_LENGTH,append=True,)\n",
    "        \n",
    "    for i in range(10):\n",
    "        loss = loss * 0.99 + train_step()*0.01\n",
    "    \n",
    "    \n",
    "    \n",
    "    if epoch_counter%100==0:\n",
    "        #average reward per game tick in current experience replay pool\n",
    "        pool_mean_reward = np.average(pool.experience_replay.rewards.get_value()[:,:-1],\n",
    "                                      weights=pool.experience_replay.is_alive.get_value()[:,:-1])\n",
    "        pool_size = pool.experience_replay.rewards.get_value().shape[0]\n",
    "        print(\"iter=%i\\tloss=%.3f\\tepsilon=%.3f\\treward/step=%.5f\\tpool_size=%i\"%(epoch_counter,\n",
    "                                                                                  loss,\n",
    "                                                                                  epsilon.get_value(),\n",
    "                                                                                  pool_mean_reward,\n",
    "                                                                                  pool_size))\n",
    "        \n",
    "\n",
    "    ##record current learning progress and show learning curves\n",
    "    if epoch_counter%500 ==0:\n",
    "        n_games = 10\n",
    "        epsilon.set_value(0)\n",
    "        rewards[epoch_counter] = pool.evaluate( record_video=False,n_games=n_games,verbose=False)\n",
    "        print(\"Current score(mean over %i) = %.3f\"%(n_games,np.mean(rewards[epoch_counter])))\n",
    "        epsilon.set_value(0.1)\n",
    "        \n",
    "    #if you see sudden slowdowns after few thousand iterations, it means box2d issue is still not fixed\n",
    "    #use this line to reset it time to time:\n",
    "    #pool.envs[0] = gym.make(GAME)\n",
    "    \n",
    "    \n",
    "    epoch_counter  +=1\n",
    "\n",
    "    \n",
    "# Time to drink some coffee!"
   ]
  },
  {
   "cell_type": "code",
   "execution_count": 22,
   "metadata": {},
   "outputs": [
    {
     "name": "stderr",
     "output_type": "stream",
     "text": [
      "/root/anaconda2/lib/python2.7/site-packages/ipykernel/__main__.py:3: FutureWarning: pd.ewm_mean is deprecated for ndarrays and will be removed in a future version\n",
      "  app.launch_new_instance()\n"
     ]
    },
    {
     "data": {
      "text/plain": [
       "[<matplotlib.lines.Line2D at 0x7f9babdcde50>]"
      ]
     },
     "execution_count": 22,
     "metadata": {},
     "output_type": "execute_result"
    },
    {
     "data": {
      "image/png": "[encoded data removed]",
      "text/plain": [
       "<matplotlib.figure.Figure at 0x7f9bbc5f0cd0>"
      ]
     },
     "metadata": {},
     "output_type": "display_data"
    }
   ],
   "source": [
    "import pandas as pd\n",
    "ticks,r = zip(*sorted(rewards.items(),key=lambda (k,v): k))\n",
    "plt.plot(ticks,pd.ewma(np.array(map(np.mean,r)),alpha=0.1))"
   ]
  },
  {
   "cell_type": "code",
   "execution_count": 23,
   "metadata": {},
   "outputs": [
    {
     "name": "stderr",
     "output_type": "stream",
     "text": [
      "[2016-12-20 04:07:55,854] Making new env: LunarLanderContinuous-v2\n",
      "[2016-12-20 04:07:55,859] Clearing 2 monitor files from previous run (because force=True was provided)\n",
      "[2016-12-20 04:07:55,862] Starting new video recorder writing to /root/test/records/openaigym.video.20.1016402.video000000.mp4\n",
      "[2016-12-20 04:07:58,927] Starting new video recorder writing to /root/test/records/openaigym.video.20.1016402.video000001.mp4\n"
     ]
    },
    {
     "name": "stdout",
     "output_type": "stream",
     "text": [
      "Episode finished after 139 timesteps with reward=-36.5259998925\n",
      "Episode finished after 184 timesteps with reward=212.997228312\n",
      "Episode finished after 287 timesteps with reward=246.746464263\n",
      "Episode finished after 259 timesteps with reward=168.535138145\n",
      "Episode finished after 216 timesteps with reward=225.27198281\n",
      "Episode finished after 259 timesteps with reward=-132.168334701\n",
      "Episode finished after 279 timesteps with reward=242.858432966\n"
     ]
    },
    {
     "name": "stderr",
     "output_type": "stream",
     "text": [
      "[2016-12-20 04:08:03,392] Starting new video recorder writing to /root/test/records/openaigym.video.20.1016402.video000008.mp4\n"
     ]
    },
    {
     "name": "stdout",
     "output_type": "stream",
     "text": [
      "Episode finished after 234 timesteps with reward=234.924650727\n"
     ]
    },
    {
     "name": "stderr",
     "output_type": "stream",
     "text": [
      "[2016-12-20 04:08:19,694] Finished writing results. You can upload them to the scoreboard via gym.upload('/root/test/records')\n"
     ]
    },
    {
     "name": "stdout",
     "output_type": "stream",
     "text": [
      "Episode finished after 1000 timesteps with reward=-116.643797728\n",
      "Episode finished after 90 timesteps with reward=-31.1345627066\n"
     ]
    },
    {
     "data": {
      "text/plain": [
       "[-36.525999892541137,\n",
       " 212.99722831223886,\n",
       " 246.74646426319785,\n",
       " 168.53513814518595,\n",
       " 225.27198280956736,\n",
       " -132.1683347009814,\n",
       " 242.85843296613888,\n",
       " 234.92465072652095,\n",
       " -116.64379772823617,\n",
       " -31.134562706638988]"
      ]
     },
     "execution_count": 23,
     "metadata": {},
     "output_type": "execute_result"
    }
   ],
   "source": [
    "pool.evaluate(10)"
   ]
  }
 ],
 "metadata": {
  "anaconda-cloud": {},
  "kernelspec": {
   "display_name": "Python 2",
   "language": "python",
   "name": "python2"
  },
  "language_info": {
   "codemirror_mode": {
    "name": "ipython",
    "version": 2
   },
   "file_extension": ".py",
   "mimetype": "text/x-python",
   "name": "python",
   "nbconvert_exporter": "python",
   "pygments_lexer": "ipython2",
   "version": "2.7.13"
  }
 },
 "nbformat": 4,
 "nbformat_minor": 1
}
