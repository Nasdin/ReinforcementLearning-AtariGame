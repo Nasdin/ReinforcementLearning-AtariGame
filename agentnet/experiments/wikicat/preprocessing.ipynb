{
 "cells": [
  {
   "cell_type": "code",
   "execution_count": 16,
   "metadata": {
    "collapsed": true
   },
   "outputs": [],
   "source": [
    "#this notebook takes the scraped wikipedia data (JSons) and\n",
    "#transforms it into a dataframe for guessing"
   ]
  },
  {
   "cell_type": "code",
   "execution_count": 5,
   "metadata": {
    "collapsed": false
   },
   "outputs": [],
   "source": [
    "import json\n",
    "import os\n",
    "import numpy as np\n",
    "from collections import Counter\n",
    "\n",
    "binary_feature_counts = Counter()\n",
    "\n",
    "unames = Counter()\n",
    "jsns = filter(lambda s: s.startswith(\"grab_musicians\"),os.listdir(\"musical_scraper\"))\n",
    "for fname in jsns:\n",
    "    with open(os.path.join(\"musical_scraper\",fname)) as fin:\n",
    "        js = json.load(fin)\n",
    "        for entity in js.values():\n",
    "            unames[entity['_page_url']]+=1\n",
    "            for key in entity.keys():\n",
    "                binary_feature_counts[key]+=1\n"
   ]
  },
  {
   "cell_type": "code",
   "execution_count": 6,
   "metadata": {
    "collapsed": false
   },
   "outputs": [],
   "source": [
    "categorical_features = {\n",
    "                        'Genres':[u'Genres',u'Genre(s)',u'Stylistic origins',u'Cultural origins'],\n",
    "                        'Origin':[u'Origin',u'Country',],\n",
    "\n",
    "                        'Occupation':[ u'Occupation(s)',u'Occupation',],\n",
    "                        'Instruments':[u'Instruments',u'Typical instruments',]\n",
    "    \n",
    "                        \n",
    "                       }"
   ]
  },
  {
   "cell_type": "code",
   "execution_count": 7,
   "metadata": {
    "collapsed": false
   },
   "outputs": [],
   "source": [
    "binary_feature_counts[\"_page_url\"] = 0\n",
    "binary_feature_counts[\"_list\"] = 0\n",
    "binary_feature_counts[\"Years active\"] = 0\n",
    "\n",
    "binary_feature_counts[\"Associated acts\"] = 0\n",
    "\n",
    "for name,f_list in categorical_features.items():\n",
    "    for feature in f_list:\n",
    "        binary_feature_counts[feature] = 0\n",
    "        \n",
    "binary_features = dict(binary_feature_counts.most_common(100)).keys()"
   ]
  },
  {
   "cell_type": "code",
   "execution_count": 8,
   "metadata": {
    "collapsed": false
   },
   "outputs": [],
   "source": [
    "from collections import defaultdict,Counter\n",
    "feature_factor_freqs = defaultdict(int)\n",
    "\n",
    "for fname in jsns:\n",
    "    with open(os.path.join(\"musical_scraper\",fname)) as fin:\n",
    "        js = json.load(fin)\n",
    "        \n",
    "        \n",
    "        for entity in js.values():\n",
    "            attributes = set()\n",
    "            \n",
    "            for feature_name in binary_features:\n",
    "                if feature_name in entity:\n",
    "                    attributes.add(feature_name+':is_known')\n",
    "            \n",
    "            for feature_name,keys in categorical_features.items():\n",
    "                for key in keys:\n",
    "                    \n",
    "                    vals = entity.get(key,'').lower().replace(',',' ')\n",
    "                    vals = filter(len,vals.split())\n",
    "                    \n",
    "                    for val in vals:\n",
    "                        \n",
    "                        attributes.add(feature_name+\":\"+val)\n",
    "            \n",
    "            \n",
    "            #_list\n",
    "            list_url = entity.get(\"_list\",'')\n",
    "            category = list_url.split('/')[-1]\n",
    "            \n",
    "            \n",
    "            attributes.add(\"category:\"+category)\n",
    "            \n",
    "            #activity\n",
    "            \n",
    "            yrs_active = entity.get(u'Years active','').lower()\n",
    "            yrs_active = yrs_active.replace(',',' ').replace(u'\\u2013',' ').replace(\"-\",' ').replace(\"present\",\"2016\")\n",
    "            \n",
    "            yrs_active = filter(len,yrs_active.split())\n",
    "            yrs_active = filter(lambda word: word.isdigit() and len(word)==4\n",
    "                                ,yrs_active)\n",
    "\n",
    "            if len(yrs_active) >=2:\n",
    "                start,end = int(yrs_active[0]), int(yrs_active[-1])\n",
    "                \n",
    "                for decade in np.arange(start//10,end//10+1)*10:\n",
    "                    if decade < 1920:\n",
    "                        decade = \"before_1920\"\n",
    "                        \n",
    "                    attributes.add(\"decades_active:\"+str(decade))\n",
    "                    \n",
    "                attributes.add(\"first_activity:\"+str(start//3*3))\n",
    "                if end == 2016:\n",
    "                    end = \"still_active\"\n",
    "                else:\n",
    "                    end = end//3*3\n",
    "                attributes.add(\"last_activity:\"+str(end))\n",
    "            \n",
    "            for attr in attributes:\n",
    "                feature_factor_freqs[attr]+=1\n",
    "            "
   ]
  },
  {
   "cell_type": "code",
   "execution_count": 9,
   "metadata": {
    "collapsed": false
   },
   "outputs": [],
   "source": [
    "feature_factor_freqs = Counter(\n",
    "                            dict(\n",
    "                                filter( lambda (key,val): feature_factor_freqs[key]>500, \n",
    "                                       feature_factor_freqs.items())\n",
    "                                )\n",
    "                             )\n"
   ]
  },
  {
   "cell_type": "code",
   "execution_count": 10,
   "metadata": {
    "collapsed": false
   },
   "outputs": [
    {
     "data": {
      "text/plain": [
       "433"
      ]
     },
     "execution_count": 10,
     "metadata": {},
     "output_type": "execute_result"
    }
   ],
   "source": [
    "accepted_features = feature_factor_freqs.keys()\n",
    "feature_to_id = {f:i for i,f in enumerate(accepted_features)}\n",
    "len(accepted_features)"
   ]
  },
  {
   "cell_type": "code",
   "execution_count": null,
   "metadata": {
    "collapsed": true
   },
   "outputs": [],
   "source": []
  },
  {
   "cell_type": "code",
   "execution_count": 11,
   "metadata": {
    "collapsed": true
   },
   "outputs": [],
   "source": [
    "from collections import defaultdict,Counter\n",
    "feature_factor_freqs = defaultdict(int)\n",
    "\n",
    "\n",
    "rows = []\n",
    "\n",
    "for fname in jsns:\n",
    "    with open(os.path.join(\"musical_scraper\",fname)) as fin:\n",
    "        js = json.load(fin)\n",
    "        \n",
    "        \n",
    "        for entity in js.values():\n",
    "            attributes = set()\n",
    "            \n",
    "            for feature_name in binary_features:\n",
    "                if feature_name in entity:\n",
    "                    attributes.add(feature_name+':is_known')\n",
    "            \n",
    "            for feature_name,keys in categorical_features.items():\n",
    "                for key in keys:\n",
    "                    \n",
    "                    vals = entity.get(key,'').lower().replace(',',' ')\n",
    "                    vals = filter(len,vals.split())\n",
    "                    \n",
    "                    for val in vals:\n",
    "                        \n",
    "                        attributes.add(feature_name+\":\"+val)\n",
    "            \n",
    "            \n",
    "            #_list\n",
    "            list_url = entity.get(\"_list\",'')\n",
    "            category = list_url.split('/')[-1]\n",
    "            \n",
    "            \n",
    "            attributes.add(\"category:\"+category)\n",
    "            \n",
    "            #activity\n",
    "            \n",
    "            yrs_active = entity.get(u'Years active','').lower()\n",
    "            yrs_active = yrs_active.replace(',',' ').replace(u'\\u2013',' ').replace(\"-\",' ').replace(\"present\",\"2016\")\n",
    "            \n",
    "            yrs_active = filter(len,yrs_active.split())\n",
    "            yrs_active = filter(lambda word: word.isdigit() and len(word)==4\n",
    "                                ,yrs_active)\n",
    "\n",
    "            if len(yrs_active) >=2:\n",
    "                start,end = int(yrs_active[0]), int(yrs_active[-1])\n",
    "                \n",
    "                for decade in np.arange(start//10,end//10+1)*10:\n",
    "                    if decade < 1920:\n",
    "                        decade = \"before_1920\"\n",
    "                        \n",
    "                    attributes.add(\"decades_active:\"+str(decade))\n",
    "                    \n",
    "                attributes.add(\"first_activity:\"+str(start//3*3))\n",
    "                if end == 2016:\n",
    "                    end = \"still_active\"\n",
    "                else:\n",
    "                    end = end//3*3\n",
    "                attributes.add(\"last_activity:\"+str(end))\n",
    "            \n",
    "            attribute_ids = filter(lambda x:x is not None, \n",
    "                                           map(feature_to_id.get, attributes)\n",
    "                                   )\n",
    "            row = np.zeros(len(accepted_features),dtype=np.bool)\n",
    "            row[attribute_ids] = True\n",
    "            rows.append(row)"
   ]
  },
  {
   "cell_type": "code",
   "execution_count": 12,
   "metadata": {
    "collapsed": true
   },
   "outputs": [],
   "source": [
    "accepted_features = map(lambda s: s.encode('utf8'),accepted_features)"
   ]
  },
  {
   "cell_type": "code",
   "execution_count": 13,
   "metadata": {
    "collapsed": false
   },
   "outputs": [],
   "source": [
    "import pandas as pd\n",
    "df = pd.DataFrame(rows,columns = accepted_features)"
   ]
  },
  {
   "cell_type": "code",
   "execution_count": 14,
   "metadata": {
    "collapsed": false
   },
   "outputs": [],
   "source": [
    "df.to_csv(\"musicians_and_others.csv\")"
   ]
  },
  {
   "cell_type": "code",
   "execution_count": null,
   "metadata": {
    "collapsed": true
   },
   "outputs": [],
   "source": []
  },
  {
   "cell_type": "code",
   "execution_count": null,
   "metadata": {
    "collapsed": true
   },
   "outputs": [],
   "source": []
  },
  {
   "cell_type": "code",
   "execution_count": null,
   "metadata": {
    "collapsed": true
   },
   "outputs": [],
   "source": []
  },
  {
   "cell_type": "code",
   "execution_count": null,
   "metadata": {
    "collapsed": true
   },
   "outputs": [],
   "source": []
  },
  {
   "cell_type": "code",
   "execution_count": null,
   "metadata": {
    "collapsed": true
   },
   "outputs": [],
   "source": []
  },
  {
   "cell_type": "code",
   "execution_count": null,
   "metadata": {
    "collapsed": true
   },
   "outputs": [],
   "source": []
  },
  {
   "cell_type": "code",
   "execution_count": 15,
   "metadata": {
    "collapsed": false
   },
   "outputs": [
    {
     "ename": "AttributeError",
     "evalue": "'int' object has no attribute 'items'",
     "output_type": "error",
     "traceback": [
      "\u001b[1;31m---------------------------------------------------------------------------\u001b[0m",
      "\u001b[1;31mAttributeError\u001b[0m                            Traceback (most recent call last)",
      "\u001b[1;32m<ipython-input-15-1e1f1dbdaf58>\u001b[0m in \u001b[0;36m<module>\u001b[1;34m()\u001b[0m\n\u001b[0;32m      4\u001b[0m \u001b[1;33m\u001b[0m\u001b[0m\n\u001b[0;32m      5\u001b[0m \u001b[0mplt\u001b[0m\u001b[1;33m.\u001b[0m\u001b[0mfigure\u001b[0m\u001b[1;33m(\u001b[0m\u001b[0mfigsize\u001b[0m\u001b[1;33m=\u001b[0m\u001b[1;33m[\u001b[0m\u001b[1;36m20\u001b[0m\u001b[1;33m,\u001b[0m\u001b[1;36m5\u001b[0m\u001b[1;33m]\u001b[0m\u001b[1;33m)\u001b[0m\u001b[1;33m\u001b[0m\u001b[0m\n\u001b[1;32m----> 6\u001b[1;33m \u001b[0m_\u001b[0m\u001b[1;33m=\u001b[0m\u001b[0mplt\u001b[0m\u001b[1;33m.\u001b[0m\u001b[0mplot\u001b[0m\u001b[1;33m(\u001b[0m\u001b[1;33m*\u001b[0m\u001b[0mzip\u001b[0m\u001b[1;33m(\u001b[0m\u001b[1;33m*\u001b[0m\u001b[0mfeature_factor_freqs\u001b[0m\u001b[1;33m[\u001b[0m\u001b[1;34m\"first_activity\"\u001b[0m\u001b[1;33m]\u001b[0m\u001b[1;33m.\u001b[0m\u001b[0mitems\u001b[0m\u001b[1;33m(\u001b[0m\u001b[1;33m)\u001b[0m\u001b[1;33m)\u001b[0m\u001b[1;33m)\u001b[0m\u001b[1;33m\u001b[0m\u001b[0m\n\u001b[0m\u001b[0;32m      7\u001b[0m \u001b[0mplt\u001b[0m\u001b[1;33m.\u001b[0m\u001b[0mxlim\u001b[0m\u001b[1;33m(\u001b[0m\u001b[1;36m1500\u001b[0m\u001b[1;33m,\u001b[0m\u001b[1;36m2100\u001b[0m\u001b[1;33m)\u001b[0m\u001b[1;33m\u001b[0m\u001b[0m\n\u001b[0;32m      8\u001b[0m \u001b[1;31m#feature_factor_freqs['Country']\u001b[0m\u001b[1;33m\u001b[0m\u001b[1;33m\u001b[0m\u001b[0m\n",
      "\u001b[1;31mAttributeError\u001b[0m: 'int' object has no attribute 'items'"
     ]
    },
    {
     "data": {
      "text/plain": [
       "<matplotlib.figure.Figure at 0x7f5c8e7a4c10>"
      ]
     },
     "metadata": {},
     "output_type": "display_data"
    }
   ],
   "source": [
    "import matplotlib.pyplot as plt\n",
    "%matplotlib inline\n",
    "\n",
    "\n",
    "plt.figure(figsize=[20,5])\n",
    "_=plt.plot(*zip(*feature_factor_freqs[\"first_activity\"].items()))\n",
    "plt.xlim(1500,2100)\n",
    "#feature_factor_freqs['Country']"
   ]
  }
 ],
 "metadata": {
  "kernelspec": {
   "display_name": "Python 2",
   "language": "python",
   "name": "python2"
  },
  "language_info": {
   "codemirror_mode": {
    "name": "ipython",
    "version": 2
   },
   "file_extension": ".py",
   "mimetype": "text/x-python",
   "name": "python",
   "nbconvert_exporter": "python",
   "pygments_lexer": "ipython2",
   "version": "2.7.6"
  }
 },
 "nbformat": 4,
 "nbformat_minor": 0
}
